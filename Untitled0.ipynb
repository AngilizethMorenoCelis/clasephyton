{
  "nbformat": 4,
  "nbformat_minor": 0,
  "metadata": {
    "colab": {
      "provenance": [],
      "authorship_tag": "ABX9TyOjWygqqZs+zDm3lEhSi/9O",
      "include_colab_link": true
    },
    "kernelspec": {
      "name": "python3",
      "display_name": "Python 3"
    },
    "language_info": {
      "name": "python"
    }
  },
  "cells": [
    {
      "cell_type": "markdown",
      "metadata": {
        "id": "view-in-github",
        "colab_type": "text"
      },
      "source": [
        "<a href=\"https://colab.research.google.com/github/AngilizethMorenoCelis/clasephyton/blob/main/Untitled0.ipynb\" target=\"_parent\"><img src=\"https://colab.research.google.com/assets/colab-badge.svg\" alt=\"Open In Colab\"/></a>"
      ]
    },
    {
      "cell_type": "code",
      "execution_count": 3,
      "metadata": {
        "colab": {
          "base_uri": "https://localhost:8080/"
        },
        "id": "WQSzcuZq-XB-",
        "outputId": "b052a4ba-2c6a-4cf9-b432-ca0c1f51e9fc"
      },
      "outputs": [
        {
          "output_type": "stream",
          "name": "stdout",
          "text": [
            "Hola Mundo\n"
          ]
        }
      ],
      "source": [
        "print(\"Hola Mundo\")"
      ]
    },
    {
      "cell_type": "code",
      "source": [
        "print(\"Chao Mundo\")"
      ],
      "metadata": {
        "colab": {
          "base_uri": "https://localhost:8080/"
        },
        "id": "8N1fFMmn-rDx",
        "outputId": "b5b04695-78ff-43ea-f709-7b8e93b17827"
      },
      "execution_count": 9,
      "outputs": [
        {
          "output_type": "stream",
          "name": "stdout",
          "text": [
            "Chao Mundo\n"
          ]
        }
      ]
    },
    {
      "cell_type": "code",
      "source": [
        "#variable\n",
        "variable = 5"
      ],
      "metadata": {
        "id": "kdI0Ho0t_g26"
      },
      "execution_count": 11,
      "outputs": []
    },
    {
      "cell_type": "code",
      "source": [
        "type(variable)"
      ],
      "metadata": {
        "colab": {
          "base_uri": "https://localhost:8080/"
        },
        "id": "NWsSXvFA_h2m",
        "outputId": "9a46335e-52b4-40cd-e543-c6cfe38bafc5"
      },
      "execution_count": 13,
      "outputs": [
        {
          "output_type": "execute_result",
          "data": {
            "text/plain": [
              "int"
            ]
          },
          "metadata": {},
          "execution_count": 13
        }
      ]
    },
    {
      "cell_type": "code",
      "source": [
        "a = 10\n",
        "b = 30"
      ],
      "metadata": {
        "id": "5gZacQGv_rdi"
      },
      "execution_count": 15,
      "outputs": []
    },
    {
      "cell_type": "code",
      "source": [
        "print(\"valor de A\",a,\"valor de B\",b)"
      ],
      "metadata": {
        "colab": {
          "base_uri": "https://localhost:8080/"
        },
        "id": "TGyYHt29_58I",
        "outputId": "511864ad-e9cb-4497-c62b-9594622a9c82"
      },
      "execution_count": 17,
      "outputs": [
        {
          "output_type": "stream",
          "name": "stdout",
          "text": [
            "valor de A 10 valor de B 30\n"
          ]
        }
      ]
    },
    {
      "cell_type": "code",
      "source": [
        "c = a + b"
      ],
      "metadata": {
        "id": "oOGeAR5oAEUk"
      },
      "execution_count": 18,
      "outputs": []
    },
    {
      "cell_type": "code",
      "source": [
        "print(\"Resultado\", c)"
      ],
      "metadata": {
        "colab": {
          "base_uri": "https://localhost:8080/"
        },
        "id": "L_CgzCu9AG2q",
        "outputId": "4f34dc65-b8fa-46c4-881c-3dc72de3de07"
      },
      "execution_count": 19,
      "outputs": [
        {
          "output_type": "stream",
          "name": "stdout",
          "text": [
            "Resultado 40\n"
          ]
        }
      ]
    },
    {
      "cell_type": "code",
      "source": [
        "#### Tuplas,diccionarios, Arry"
      ],
      "metadata": {
        "id": "EGe2C5loAJM6"
      },
      "execution_count": 20,
      "outputs": []
    },
    {
      "cell_type": "code",
      "source": [
        "estudiantes = ['daniel','cindy','camilo']"
      ],
      "metadata": {
        "id": "YbY9oWRvAKeO"
      },
      "execution_count": 22,
      "outputs": []
    },
    {
      "cell_type": "code",
      "source": [
        "type(estudiantes)"
      ],
      "metadata": {
        "colab": {
          "base_uri": "https://localhost:8080/"
        },
        "id": "zDggc11WAUkj",
        "outputId": "bc46f5cd-a7bb-46bc-b29c-2ae3c1d11a5c"
      },
      "execution_count": 23,
      "outputs": [
        {
          "output_type": "execute_result",
          "data": {
            "text/plain": [
              "list"
            ]
          },
          "metadata": {},
          "execution_count": 23
        }
      ]
    },
    {
      "cell_type": "code",
      "source": [
        "print (estudiantes)"
      ],
      "metadata": {
        "colab": {
          "base_uri": "https://localhost:8080/"
        },
        "id": "5S_iPR_OAW4d",
        "outputId": "813168d3-8124-40aa-ab67-b8d8010843a5"
      },
      "execution_count": 24,
      "outputs": [
        {
          "output_type": "stream",
          "name": "stdout",
          "text": [
            "['daniel', 'cindy', 'camilo']\n"
          ]
        }
      ]
    },
    {
      "cell_type": "code",
      "source": [
        "estudiantes[0:2]"
      ],
      "metadata": {
        "colab": {
          "base_uri": "https://localhost:8080/"
        },
        "id": "PzIsyxr-AcKt",
        "outputId": "e16ee4f2-9b34-4c4e-fb8a-682fc9dba95d"
      },
      "execution_count": 25,
      "outputs": [
        {
          "output_type": "execute_result",
          "data": {
            "text/plain": [
              "['daniel', 'cindy']"
            ]
          },
          "metadata": {},
          "execution_count": 25
        }
      ]
    },
    {
      "cell_type": "code",
      "source": [
        "#string\n",
        "# M E N S A J E\n",
        "# 0 1 2 3 4 5 6"
      ],
      "metadata": {
        "id": "GPoH0knNAeb3"
      },
      "execution_count": 28,
      "outputs": []
    },
    {
      "cell_type": "code",
      "source": [
        "ejemplo = 'mensaje'"
      ],
      "metadata": {
        "id": "tg-6yrG8Ap3y"
      },
      "execution_count": 29,
      "outputs": []
    },
    {
      "cell_type": "code",
      "source": [
        "diccionario = [{'alumno1':('nombre''daniel','edad' 'xxx'),\n",
        "              'alumno2':('nombre''daniel','edad' 'xxx')}]"
      ],
      "metadata": {
        "id": "ptKmv1pzAumf"
      },
      "execution_count": 30,
      "outputs": []
    },
    {
      "cell_type": "code",
      "source": [
        "diccionario[0]['alumno1']"
      ],
      "metadata": {
        "colab": {
          "base_uri": "https://localhost:8080/"
        },
        "id": "8nyIVucxAwE5",
        "outputId": "cbf86d9b-d3e7-446d-a038-57a4b8d9220c"
      },
      "execution_count": 31,
      "outputs": [
        {
          "output_type": "execute_result",
          "data": {
            "text/plain": [
              "('nombredaniel', 'edadxxx')"
            ]
          },
          "metadata": {},
          "execution_count": 31
        }
      ]
    },
    {
      "cell_type": "code",
      "source": [
        "#condicionales"
      ],
      "metadata": {
        "id": "vPPIBmeEAzev"
      },
      "execution_count": 32,
      "outputs": []
    },
    {
      "cell_type": "code",
      "source": [
        "edad = input('ingrese su edad')"
      ],
      "metadata": {
        "colab": {
          "base_uri": "https://localhost:8080/"
        },
        "id": "JlWGYQstA2OY",
        "outputId": "9677a8ce-f02d-4e66-93d1-62c778d73d13"
      },
      "execution_count": 33,
      "outputs": [
        {
          "name": "stdout",
          "output_type": "stream",
          "text": [
            "ingrese su edad10\n"
          ]
        }
      ]
    },
    {
      "cell_type": "code",
      "source": [
        "print(edad)"
      ],
      "metadata": {
        "colab": {
          "base_uri": "https://localhost:8080/"
        },
        "id": "ZCjeJbmFA33W",
        "outputId": "30924a38-0189-43de-c6df-1058e4f00d69"
      },
      "execution_count": 34,
      "outputs": [
        {
          "output_type": "stream",
          "name": "stdout",
          "text": [
            "10\n"
          ]
        }
      ]
    },
    {
      "cell_type": "code",
      "source": [
        "type(edad)"
      ],
      "metadata": {
        "colab": {
          "base_uri": "https://localhost:8080/"
        },
        "id": "OnYsK3meA8ch",
        "outputId": "dfc1c55c-41cb-4bfe-ab2e-95ba6c520c05"
      },
      "execution_count": 35,
      "outputs": [
        {
          "output_type": "execute_result",
          "data": {
            "text/plain": [
              "str"
            ]
          },
          "metadata": {},
          "execution_count": 35
        }
      ]
    },
    {
      "cell_type": "code",
      "source": [
        "print(int(edad)+2)"
      ],
      "metadata": {
        "colab": {
          "base_uri": "https://localhost:8080/"
        },
        "id": "xtU4d23cA-jd",
        "outputId": "1e415249-327b-4771-9270-3055bb6b1bcc"
      },
      "execution_count": 36,
      "outputs": [
        {
          "output_type": "stream",
          "name": "stdout",
          "text": [
            "12\n"
          ]
        }
      ]
    },
    {
      "cell_type": "code",
      "source": [
        "if int(edad) >= 18:\n",
        "  print('puede tomar cerveza')\n",
        "else:\n",
        "  print('no puede tomar cerveza') "
      ],
      "metadata": {
        "colab": {
          "base_uri": "https://localhost:8080/"
        },
        "id": "IeuiLMG6BAyA",
        "outputId": "f20d58e6-b174-4219-cf4d-359417082769"
      },
      "execution_count": 37,
      "outputs": [
        {
          "output_type": "stream",
          "name": "stdout",
          "text": [
            "no puede tomar cerveza\n"
          ]
        }
      ]
    },
    {
      "cell_type": "code",
      "source": [
        "#calculadora"
      ],
      "metadata": {
        "id": "XJUyPXjGBEiR"
      },
      "execution_count": 38,
      "outputs": []
    },
    {
      "cell_type": "code",
      "source": [
        "valorA= 'asd'"
      ],
      "metadata": {
        "id": "UNQv-o8PBHXn"
      },
      "execution_count": 39,
      "outputs": []
    },
    {
      "cell_type": "code",
      "source": [
        "try:\n",
        "  int(valorA)\n",
        "  except:\n",
        "    print"
      ],
      "metadata": {
        "id": "Fz53pzjrBKPf"
      },
      "execution_count": null,
      "outputs": []
    }
  ]
}